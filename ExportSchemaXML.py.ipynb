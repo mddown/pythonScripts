{
 "cells": [
  {
   "cell_type": "markdown",
   "metadata": {},
   "source": [
    "# Export Schema.xml from Feature Class\n",
    "\n",
    "#### Dependencies: arcpy"
   ]
  },
  {
   "cell_type": "code",
   "execution_count": 52,
   "metadata": {},
   "outputs": [],
   "source": [
    "import arcpy\n",
    "import os"
   ]
  },
  {
   "cell_type": "code",
   "execution_count": 53,
   "metadata": {
    "scrolled": true
   },
   "outputs": [],
   "source": [
    "arcpy.env.workspace = \"path\\to\\data\\.gdb\"\n",
    "outputFolder = os.path.dirname(arcpy.env.workspace)"
   ]
  },
  {
   "cell_type": "code",
   "execution_count": 54,
   "metadata": {},
   "outputs": [
    {
     "name": "stdout",
     "output_type": "stream",
     "text": [
      "['Pavement', 'MWP', 'Cores']\n"
     ]
    }
   ],
   "source": [
    "featureClasses = arcpy.ListFeatureClasses()\n",
    "print(featureClasses)"
   ]
  },
  {
   "cell_type": "code",
   "execution_count": 55,
   "metadata": {},
   "outputs": [
    {
     "name": "stdout",
     "output_type": "stream",
     "text": [
      "D:\\GIS_DATA\\Paver\\GIS\\prod_gdb\\Pavement.xml\n",
      "D:\\GIS_DATA\\Paver\\GIS\\prod_gdb\\MWP.xml\n",
      "D:\\GIS_DATA\\Paver\\GIS\\prod_gdb\\Cores.xml\n"
     ]
    }
   ],
   "source": [
    "for fc in featureClasses:\n",
    "    outputFileName = outputFolder + '\\\\' + fc + '.xml'\n",
    "    print(outputFileName)\n",
    "    arcpy.ExportXMLWorkspaceDocument_management(fc, outputFileName, 'SCHEMA_ONLY', 'NORMALIZED', 'NO_METADATA')"
   ]
  }
 ],
 "metadata": {
  "kernelspec": {
   "display_name": "Python 3",
   "language": "python",
   "name": "python3"
  },
  "language_info": {
   "codemirror_mode": {
    "name": "ipython",
    "version": 3
   },
   "file_extension": ".py",
   "mimetype": "text/x-python",
   "name": "python",
   "nbconvert_exporter": "python",
   "pygments_lexer": "ipython3",
   "version": "3.6.6"
  }
 },
 "nbformat": 4,
 "nbformat_minor": 2
}
